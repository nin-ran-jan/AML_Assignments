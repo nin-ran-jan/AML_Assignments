{
 "cells": [
  {
   "cell_type": "code",
   "execution_count": 16,
   "metadata": {},
   "outputs": [],
   "source": [
    "import torch\n",
    "import torch.nn as nn\n",
    "import torch.optim as optim\n",
    "import numpy as np\n",
    "import torch.nn.functional as F\n",
    "\n",
    "class DifferentiableDecisionTree(nn.Module):\n",
    "    def __init__(self, input_dim, output_dim, max_depth=3):\n",
    "        super(DifferentiableDecisionTree, self).__init__()\n",
    "        self.input_dim = input_dim\n",
    "        self.output_dim = output_dim\n",
    "        self.max_depth = max_depth\n",
    "\n",
    "        # Parameters for decision rules\n",
    "        self.feature_threshold = nn.Parameter(torch.randn(max_depth, input_dim))\n",
    "        self.left_weights = nn.Parameter(torch.randn(max_depth, output_dim, input_dim))\n",
    "        self.right_weights = nn.Parameter(torch.randn(max_depth, output_dim, input_dim))\n",
    "\n",
    "\n",
    "    def forward(self, x):\n",
    "        # Initialize leaf node values to zero\n",
    "        leaf_values = torch.zeros(x.shape[0], self.output_dim)\n",
    "\n",
    "        for d in range(self.max_depth):\n",
    "            # Compute decision rule\n",
    "            decision = x[:, None, :] < self.feature_threshold[d]\n",
    "            # Apply decision rule to update leaf node values\n",
    "            left_values = torch.mul(decision.float(), self.left_weights[d]).sum(dim=-1)\n",
    "            right_values = torch.mul((1 - decision.float()), self.right_weights[d]).sum(dim=-1)\n",
    "            leaf_values = leaf_values + left_values + right_values\n",
    "\n",
    "        return leaf_values\n",
    "\n",
    "\n",
    "\n",
    "    # def forward(self, x):\n",
    "    #     # Initialize leaf node values to zero\n",
    "    #     batch_size = x.shape[0]\n",
    "    #     leaf_values = torch.zeros(batch_size, self.output_dim)\n",
    "\n",
    "    #     for d in range(self.max_depth):\n",
    "    #         # Compute decision rule\n",
    "    #         decision = torch.sigmoid(x @ self.feature_threshold[d])\n",
    "\n",
    "    #         # Apply decision rule to update leaf node values\n",
    "    #         left_values = torch.matmul(decision.unsqueeze(1), self.left_weights[d]).squeeze(1)\n",
    "    #         right_values = torch.matmul((1 - decision).unsqueeze(1), self.right_weights[d]).squeeze(1)\n",
    "    #         leaf_values = leaf_values + decision * left_values + (1 - decision) * right_values\n",
    "\n",
    "    #     return leaf_values\n",
    "\n"
   ]
  },
  {
   "cell_type": "code",
   "execution_count": 21,
   "metadata": {},
   "outputs": [],
   "source": [
    "np.random.seed(42)\n",
    "X = np.random.rand(1000, 4)\n",
    "y = np.random.randint(0, 2, size=1000)\n",
    "\n",
    "# Convert data to PyTorch tensors\n",
    "X_tensor = torch.tensor(X, dtype=torch.float32)\n",
    "y_tensor = torch.tensor(y, dtype=torch.long)\n",
    "\n",
    "# Convert the target tensor to torch.long data type\n",
    "# y_onehot = torch.zeros(len(y_tensor), 4)\n",
    "# y_onehot.scatter_(1, y_tensor.view(-1, 1), 1)\n",
    "\n",
    "# Define model, loss function, and optimizer\n",
    "model = DifferentiableDecisionTree(input_dim=4, output_dim=2)\n",
    "criterion = nn.CrossEntropyLoss()\n",
    "optimizer = optim.SGD(model.parameters(), lr=0.01)\n",
    "\n"
   ]
  },
  {
   "cell_type": "code",
   "execution_count": 24,
   "metadata": {},
   "outputs": [
    {
     "name": "stdout",
     "output_type": "stream",
     "text": [
      "Epoch [100/1000], Loss: 0.7491 Accuracy: 0.49\n",
      "Epoch [200/1000], Loss: 0.7268 Accuracy: 0.49\n",
      "Epoch [300/1000], Loss: 0.7139 Accuracy: 0.53\n",
      "Epoch [400/1000], Loss: 0.7065 Accuracy: 0.53\n",
      "Epoch [500/1000], Loss: 0.7022 Accuracy: 0.52\n",
      "Epoch [600/1000], Loss: 0.6995 Accuracy: 0.52\n",
      "Epoch [700/1000], Loss: 0.6978 Accuracy: 0.52\n",
      "Epoch [800/1000], Loss: 0.6967 Accuracy: 0.52\n",
      "Epoch [900/1000], Loss: 0.6958 Accuracy: 0.52\n",
      "Epoch [1000/1000], Loss: 0.6951 Accuracy: 0.52\n"
     ]
    }
   ],
   "source": [
    "\n",
    "# Training loop\n",
    "num_epochs = 1000\n",
    "for epoch in range(num_epochs):\n",
    "    # Forward pass\n",
    "    outputs = model(X_tensor)\n",
    "    loss = criterion(outputs, y_tensor)\n",
    "    \n",
    "    # Backward pass and optimization\n",
    "    optimizer.zero_grad()\n",
    "    loss.backward()\n",
    "    optimizer.step()\n",
    "    \n",
    "    if (epoch+1) % 100 == 0:\n",
    "        with torch.no_grad():\n",
    "            outputs = model(X_tensor)\n",
    "            _, predicted = torch.max(outputs, 1)\n",
    "            accuracy = (predicted == y_tensor).sum().item() / y_tensor.size(0)\n",
    "            # print()\n",
    "            print(f'Epoch [{epoch+1}/{num_epochs}], Loss: {loss.item():.4f}', f'Accuracy: {accuracy:.2f}')"
   ]
  },
  {
   "cell_type": "code",
   "execution_count": null,
   "metadata": {},
   "outputs": [],
   "source": []
  },
  {
   "cell_type": "code",
   "execution_count": null,
   "metadata": {},
   "outputs": [],
   "source": []
  }
 ],
 "metadata": {
  "kernelspec": {
   "display_name": "tiger",
   "language": "python",
   "name": "python3"
  },
  "language_info": {
   "codemirror_mode": {
    "name": "ipython",
    "version": 3
   },
   "file_extension": ".py",
   "mimetype": "text/x-python",
   "name": "python",
   "nbconvert_exporter": "python",
   "pygments_lexer": "ipython3",
   "version": "3.9.16"
  }
 },
 "nbformat": 4,
 "nbformat_minor": 2
}
