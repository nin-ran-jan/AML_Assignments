{
 "cells": [
  {
   "cell_type": "code",
   "execution_count": 2,
   "metadata": {},
   "outputs": [],
   "source": [
    "import pandas as pd\n",
    "import torch\n",
    "\n",
    "device = torch.device(\"cuda:2\")\n",
    "X = torch.stack([tensor for tensor in pd.read_pickle('./Datasets/cat_embeddings.pkl')['specter_cat_embeddings'].values]).to(device)"
   ]
  },
  {
   "cell_type": "code",
   "execution_count": null,
   "metadata": {},
   "outputs": [],
   "source": [
    "import torch\n",
    "import torch.nn as nn\n",
    "import torch.optim as optim\n",
    "\n",
    "# Define the neural network architecture for classification\n",
    "class Classifier(nn.Module):\n",
    "    def __init__(self, input_dim, hidden_dim, output_dim):\n",
    "        super(Classifier, self).__init__()\n",
    "        self.fc1 = nn.Linear(input_dim, hidden_dim)\n",
    "        self.fc2 = nn.Linear(hidden_dim, output_dim)\n",
    "        self.relu = nn.ReLU()\n",
    "        self.sigmoid = nn.Sigmoid()\n",
    "\n",
    "    def forward(self, x):\n",
    "        x = self.relu(self.fc1(x))\n",
    "        x = self.sigmoid(self.fc2(x))\n",
    "        return x\n",
    "\n",
    "# Initialize the model\n",
    "input_dim = 768  # Embedding size\n",
    "hidden_dim = 256\n",
    "output_dim = 1  # Binary classification (positive or not)\n",
    "model = Classifier(input_dim, hidden_dim, output_dim).to(device)\n",
    "\n",
    "# Define loss function and optimizer\n",
    "criterion = nn.BCELoss()  # Binary cross-entropy loss\n",
    "optimizer = optim.Adam(model.parameters(), lr=0.001)\n",
    "\n",
    "# Assuming X is a tensor of dimension (313, 768) for positive samples\n",
    "# and X_unlabeled is a tensor of dimension (N, 768) for unlabelled samples\n",
    "\n",
    "# Train the model using PU learning algorithm\n",
    "num_iterations = 10\n",
    "for iteration in range(num_iterations):\n",
    "    # Step 1: Train the model on positive samples (P)\n",
    "    optimizer.zero_grad()\n",
    "    positive_outputs = model(X)\n",
    "    loss = criterion(positive_outputs, torch.ones_like(positive_outputs))  # Label positive samples as 1\n",
    "    loss.backward()\n",
    "    optimizer.step()\n",
    "\n",
    "    # Step 2: Pseudo-label unlabelled samples (U) and update the positive set (P)\n",
    "    with torch.no_grad():\n",
    "        unlabeled_outputs = model(X_unlabeled)\n",
    "        # Threshold for pseudo-labelling: you can adjust this threshold based on confidence\n",
    "        pseudo_labels = (unlabeled_outputs > 0.5).float()  # Threshold at 0.5\n",
    "        pseudo_positive_samples = X_unlabeled[pseudo_labels.squeeze(1) == 1]\n",
    "        X = torch.cat((X, pseudo_positive_samples), dim=0)\n",
    "        \n",
    "        # Remove pseudo-positive samples from the unlabeled set\n",
    "        X_unlabeled = X_unlabeled[pseudo_labels.squeeze(1) == 0]\n",
    "\n",
    "# After training, the model is ready for prediction on new data\n"
   ]
  }
 ],
 "metadata": {
  "kernelspec": {
   "display_name": "tiger",
   "language": "python",
   "name": "python3"
  },
  "language_info": {
   "codemirror_mode": {
    "name": "ipython",
    "version": 3
   },
   "file_extension": ".py",
   "mimetype": "text/x-python",
   "name": "python",
   "nbconvert_exporter": "python",
   "pygments_lexer": "ipython3",
   "version": "3.9.16"
  }
 },
 "nbformat": 4,
 "nbformat_minor": 2
}
