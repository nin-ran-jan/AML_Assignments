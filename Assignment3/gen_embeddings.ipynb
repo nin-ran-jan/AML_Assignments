{
 "cells": [
  {
   "cell_type": "code",
   "execution_count": 2,
   "metadata": {},
   "outputs": [],
   "source": [
    "import urllib, urllib.request, xmltodict, feedparser\n",
    "from datetime import datetime\n",
    "from time import mktime\n",
    "import pprint\n",
    "\n",
    "import pandas as pd\n",
    "import torch\n",
    "import matplotlib.pyplot as plt\n",
    "import numpy as np"
   ]
  },
  {
   "cell_type": "code",
   "execution_count": 3,
   "metadata": {},
   "outputs": [],
   "source": [
    "def get_title_abs_arxiv(url):\n",
    "    if 'arxiv' not in url: return -1,{}\n",
    "    if 'pdf' in url: arxiv_id=''.join(url.split('pdf')[-2:-1])[1:-1]\n",
    "    else: arxiv_id=url.split('/')[-1]\n",
    "    query_url='http://export.arxiv.org/api/query?id_list='+arxiv_id\n",
    "    data_dict = xmltodict.parse(urllib.request.urlopen(query_url).read())['feed']\n",
    "    return {'title':data_dict['entry']['title'],'abstract':' '.join(data_dict['entry']['summary'].split('\\n'))}"
   ]
  },
  {
   "cell_type": "code",
   "execution_count": 3,
   "metadata": {},
   "outputs": [],
   "source": [
    "def fetch_daily_arxiv_papers(cat='cs.LG'):\n",
    "    feedurl=f'https://rss.arxiv.org/rss/{cat}'\n",
    "    feed=feedparser.parse(feedurl)\n",
    "    datestr=datetime.fromtimestamp(mktime(feed['feed']['published_parsed'])).strftime('%d-%b-%Y')\n",
    "    daily_papers=[]\n",
    "    for e in feed['entries']:\n",
    "        paper_entry={'id':e['id'],'title':e['title'],\n",
    "                     'abstract':' '.join(e['summary'].split('\\n')),\n",
    "                     'date':datestr}\n",
    "        daily_papers.append(paper_entry)\n",
    "    return daily_papers"
   ]
  },
  {
   "cell_type": "code",
   "execution_count": 4,
   "metadata": {},
   "outputs": [
    {
     "data": {
      "text/plain": [
       "'https://arxiv.org/pdf/2209.11142.pdf'"
      ]
     },
     "execution_count": 4,
     "metadata": {},
     "output_type": "execute_result"
    }
   ],
   "source": [
    "df = pd.read_csv('./Datasets/papers_of_interest/papers_of_interest.csv')\n",
    "df['url'][0]"
   ]
  },
  {
   "cell_type": "code",
   "execution_count": 5,
   "metadata": {},
   "outputs": [
    {
     "data": {
      "text/plain": [
       "{'title': 'A Generalist Neural Algorithmic Learner',\n",
       " 'abstract': 'The cornerstone of neural algorithmic reasoning is the ability to solve algorithmic tasks, especially in a way that generalises out of distribution. While recent years have seen a surge in methodological improvements in this area, they mostly focused on building specialist models. Specialist models are capable of learning to neurally execute either only one algorithm or a collection of algorithms with identical control-flow backbone. Here, instead, we focus on constructing a generalist neural algorithmic learner -- a single graph neural network processor capable of learning to execute a wide range of algorithms, such as sorting, searching, dynamic programming, path-finding and geometry. We leverage the CLRS benchmark to empirically show that, much like recent successes in the domain of perception, generalist algorithmic learners can be built by \"incorporating\" knowledge. That is, it is possible to effectively learn algorithms in a multi-task manner, so long as we can learn to execute them well in a single-task regime. Motivated by this, we present a series of improvements to the input representation, training regime and processor architecture over CLRS, improving average single-task performance by over 20% from prior art. We then conduct a thorough ablation of multi-task learners leveraging these improvements. Our results demonstrate a generalist learner that effectively incorporates knowledge captured by specialist models.'}"
      ]
     },
     "execution_count": 5,
     "metadata": {},
     "output_type": "execute_result"
    }
   ],
   "source": [
    "get_title_abs_arxiv(df['url'][0])"
   ]
  },
  {
   "cell_type": "code",
   "execution_count": 6,
   "metadata": {},
   "outputs": [
    {
     "data": {
      "text/plain": [
       "(313, 2)"
      ]
     },
     "execution_count": 6,
     "metadata": {},
     "output_type": "execute_result"
    }
   ],
   "source": [
    "df.shape"
   ]
  },
  {
   "cell_type": "code",
   "execution_count": 32,
   "metadata": {},
   "outputs": [
    {
     "name": "stdout",
     "output_type": "stream",
     "text": [
      "0 1 2 3 4 5 6 7 8 9 10 11 12 13 14 15 16 17 18 19 20 21 22 23 24 25 26 27 28 29 30 31 32 33 34 35 36 37 38 39 40 41 42 43 44 45 46 47 48 49 50 51 52 53 54 55 56 57 58 59 60 61 62 63 64 65 66 67 68 69 70 71 72 73 74 75 76 77 78 79 80 81 82 83 84 85 86 87 88 89 90 91 92 93 94 95 96 97 98 99 100 101 102 103 104 105 106 107 108 109 110 111 112 113 114 115 116 117 118 119 120 121 122 123 124 125 126 127 128 129 130 131 132 133 134 135 136 137 138 139 140 141 142 143 144 145 146 147 148 149 150 151 152 153 154 155 156 157 158 159 160 161 162 163 164 165 166 167 168 169 170 171 172 173 174 175 176 177 178 179 180 181 182 183 184 185 186 187 188 189 190 191 192 193 194 195 196 197 198 199 200 201 202 203 204 205 206 207 208 209 210 211 212 213 214 215 216 217 218 219 220 221 222 223 224 225 226 227 228 229 230 231 232 233 234 235 236 237 238 239 240 241 242 243 244 245 246 247 248 249 250 251 252 253 254 255 256 257 258 259 260 261 262 263 264 265 266 267 268 269 270 271 272 273 274 275 276 277 278 279 280 281 282 283 284 285 286 287 288 289 290 291 292 293 294 295 296 297 298 299 300 301 302 303 304 305 306 307 308 309 310 311 312 \n"
     ]
    }
   ],
   "source": [
    "#BERT\n",
    "\n",
    "import torch\n",
    "from transformers import BertTokenizer, BertModel\n",
    "import numpy as np\n",
    "\n",
    "device = torch.device(\"cuda:2\" if torch.cuda.is_available() else \"cpu\")\n",
    "\n",
    "tokenizer = BertTokenizer.from_pretrained('bert-base-uncased')\n",
    "model = BertModel.from_pretrained('bert-base-uncased').to(device)\n",
    "\n",
    "title_embeddings_list = []\n",
    "abstract_embeddings_list = []\n",
    "\n",
    "for paper in range(df.shape[0]):\n",
    "    # print(df['url'][paper])\n",
    "    print(paper, end=' ')\n",
    "    paper_data = get_title_abs_arxiv(df['url'][paper])\n",
    "    for mode in ['title', 'abstract']:\n",
    "        inputs = tokenizer(paper_data[mode], return_tensors='pt', padding=True, truncation=True).to(device)\n",
    "        with torch.no_grad():\n",
    "            outputs = model(**inputs)\n",
    "        embeddings = outputs.last_hidden_state\n",
    "        pooled_embeddings = torch.mean(embeddings, dim=1)\n",
    "        if mode == 'title':\n",
    "            title_embeddings_list.append(pooled_embeddings.cpu().numpy())\n",
    "        elif mode == 'abstract':\n",
    "            abstract_embeddings_list.append(pooled_embeddings.cpu().numpy())\n",
    "\n",
    "print()\n",
    "\n",
    "# Convert lists of NumPy arrays to NumPy arrays\n",
    "title_embeddings_np = np.vstack(title_embeddings_list)\n",
    "abstract_embeddings_np = np.vstack(abstract_embeddings_list)\n",
    "\n",
    "# Create DataFrame\n",
    "df_embeddings = pd.DataFrame({\n",
    "    'url' : df['url'].values.tolist(),\n",
    "    'title_embeddings': [torch.tensor(embedding) for embedding in title_embeddings_list],\n",
    "    'abstract_embeddings': [torch.tensor(embedding) for embedding in abstract_embeddings_list]\n",
    "})\n",
    "\n",
    "df_embeddings.to_pickle(\"./Datasets/papers_of_interest/bert_embeddings.pkl\")\n"
   ]
  },
  {
   "cell_type": "code",
   "execution_count": 42,
   "metadata": {},
   "outputs": [
    {
     "name": "stderr",
     "output_type": "stream",
     "text": [
      "/raid/home/niranjan20090/anaconda3/envs/tiger/lib/python3.9/site-packages/torch/_utils.py:776: UserWarning: TypedStorage is deprecated. It will be removed in the future and UntypedStorage will be the only storage class. This should only matter to you if you are using storages directly.  To access UntypedStorage directly, use tensor.untyped_storage() instead of tensor.storage()\n",
      "  return self.fget.__get__(instance, owner)()\n"
     ]
    },
    {
     "name": "stdout",
     "output_type": "stream",
     "text": [
      "0 "
     ]
    },
    {
     "name": "stderr",
     "output_type": "stream",
     "text": [
      "Asking to truncate to max_length but no maximum length is provided and the model has no predefined maximum length. Default to no truncation.\n"
     ]
    },
    {
     "name": "stdout",
     "output_type": "stream",
     "text": [
      "1 2 3 4 5 6 7 8 9 10 11 12 13 14 15 16 17 18 19 20 21 22 23 24 25 26 27 28 29 30 31 32 33 34 35 36 37 38 39 40 41 42 43 44 45 46 47 48 49 50 51 52 53 54 55 56 57 58 59 60 61 62 63 64 65 66 67 68 69 70 71 72 73 74 75 76 77 78 79 80 81 82 83 84 85 86 87 88 89 90 91 92 93 94 95 96 97 98 99 100 101 102 103 104 105 106 107 108 109 110 111 112 113 114 115 116 117 118 119 120 121 122 123 124 125 126 127 128 129 130 131 132 133 134 135 136 137 138 139 140 141 142 143 144 145 146 147 148 149 150 151 152 153 154 155 156 157 158 159 160 161 162 163 164 165 166 167 168 169 170 171 172 173 174 175 176 177 178 179 180 181 182 183 184 185 186 187 188 189 190 191 192 193 194 195 196 197 198 199 200 201 202 203 204 205 206 207 208 209 210 211 212 213 214 215 216 217 218 219 220 221 222 223 224 225 226 227 228 229 230 231 232 233 234 235 236 237 238 239 240 241 242 243 244 245 246 247 248 249 250 251 252 253 254 255 256 257 258 259 260 261 262 263 264 265 266 267 268 269 270 271 272 273 274 275 276 277 278 279 280 281 282 283 284 285 286 287 288 289 290 291 292 293 294 295 296 297 298 299 300 301 302 303 304 305 306 307 308 309 310 311 312 \n"
     ]
    }
   ],
   "source": [
    "#SCIBERT\n",
    "\n",
    "import torch\n",
    "from transformers import BertTokenizer, BertModel\n",
    "import numpy as np\n",
    "\n",
    "device = torch.device(\"cuda:2\" if torch.cuda.is_available() else \"cpu\")\n",
    "\n",
    "tokenizer = BertTokenizer.from_pretrained('allenai/scibert_scivocab_uncased')\n",
    "model = BertModel.from_pretrained('allenai/scibert_scivocab_uncased').to(device)\n",
    "\n",
    "title_embeddings_list = []\n",
    "abstract_embeddings_list = []\n",
    "\n",
    "for paper in range(df.shape[0]):\n",
    "    # print(df['url'][paper])\n",
    "    print(paper, end=' ')\n",
    "    paper_data = get_title_abs_arxiv(df['url'][paper])\n",
    "    for mode in ['title', 'abstract']:\n",
    "        inputs = tokenizer(paper_data[mode], return_tensors='pt', padding=True, truncation=True).to(device)\n",
    "        with torch.no_grad():\n",
    "            outputs = model(**inputs)\n",
    "        embeddings = outputs.last_hidden_state\n",
    "        pooled_embeddings = torch.mean(embeddings, dim=1)\n",
    "        if mode == 'title':\n",
    "            title_embeddings_list.append(pooled_embeddings.cpu().numpy())\n",
    "        elif mode == 'abstract':\n",
    "            abstract_embeddings_list.append(pooled_embeddings.cpu().numpy())\n",
    "\n",
    "print()\n",
    "\n",
    "# Convert lists of NumPy arrays to NumPy arrays\n",
    "title_embeddings_np = np.vstack(title_embeddings_list)\n",
    "abstract_embeddings_np = np.vstack(abstract_embeddings_list)\n",
    "\n",
    "# Create DataFrame\n",
    "df_embeddings = pd.DataFrame({\n",
    "    'url' : df['url'].values.tolist(),\n",
    "    'title_embeddings': [torch.tensor(embedding) for embedding in title_embeddings_list],\n",
    "    'abstract_embeddings': [torch.tensor(embedding) for embedding in abstract_embeddings_list]\n",
    "})\n",
    "\n",
    "df_embeddings.to_pickle(\"./Datasets/papers_of_interest/scibert_embeddings.pkl\")\n",
    "\n"
   ]
  },
  {
   "cell_type": "code",
   "execution_count": 45,
   "metadata": {},
   "outputs": [
    {
     "name": "stderr",
     "output_type": "stream",
     "text": [
      "/raid/home/niranjan20090/anaconda3/envs/tiger/lib/python3.9/site-packages/torch/_utils.py:776: UserWarning: TypedStorage is deprecated. It will be removed in the future and UntypedStorage will be the only storage class. This should only matter to you if you are using storages directly.  To access UntypedStorage directly, use tensor.untyped_storage() instead of tensor.storage()\n",
      "  return self.fget.__get__(instance, owner)()\n"
     ]
    },
    {
     "name": "stdout",
     "output_type": "stream",
     "text": [
      "0 "
     ]
    },
    {
     "name": "stderr",
     "output_type": "stream",
     "text": [
      "Asking to truncate to max_length but no maximum length is provided and the model has no predefined maximum length. Default to no truncation.\n"
     ]
    },
    {
     "name": "stdout",
     "output_type": "stream",
     "text": [
      "1 2 3 4 5 6 7 8 9 10 11 12 13 14 15 16 17 18 19 20 21 22 23 24 25 26 27 28 29 30 31 32 33 34 35 36 37 38 39 40 41 42 43 44 45 46 47 48 49 50 51 52 53 54 55 56 57 58 59 60 61 62 63 64 65 66 67 68 69 70 71 72 73 74 75 76 77 78 79 80 81 82 83 84 85 86 87 88 89 90 91 92 93 94 95 96 97 98 99 100 101 102 103 104 105 106 107 108 109 110 111 112 113 114 115 116 117 118 119 120 121 122 123 124 125 126 127 128 129 130 131 132 133 134 135 136 137 138 139 140 141 142 143 144 145 146 147 148 149 150 151 152 153 154 155 156 157 158 159 160 161 162 163 164 165 166 167 168 169 170 171 172 173 174 175 176 177 178 179 180 181 182 183 184 185 186 187 188 189 190 191 192 193 194 195 196 197 198 199 200 201 202 203 204 205 206 207 208 209 210 211 212 213 214 215 216 217 218 219 220 221 222 223 224 225 226 227 228 229 230 231 232 233 234 235 236 237 238 239 240 241 242 243 244 245 246 247 248 249 250 251 252 253 254 255 256 257 258 259 260 261 262 263 264 265 266 267 268 269 270 271 272 273 274 275 276 277 278 279 280 281 282 283 284 285 286 287 288 289 290 291 292 293 294 295 296 297 298 299 300 301 302 303 304 305 306 307 308 309 310 311 312 \n"
     ]
    }
   ],
   "source": [
    "#SPECTER\n",
    "\n",
    "import torch\n",
    "from transformers import BertTokenizer, BertModel\n",
    "import numpy as np\n",
    "\n",
    "device = torch.device(\"cuda:2\" if torch.cuda.is_available() else \"cpu\")\n",
    "\n",
    "tokenizer = BertTokenizer.from_pretrained('allenai/specter')\n",
    "model = BertModel.from_pretrained('allenai/specter').to(device)\n",
    "\n",
    "title_embeddings_list = []\n",
    "abstract_embeddings_list = []\n",
    "\n",
    "for paper in range(df.shape[0]):\n",
    "    # print(df['url'][paper])\n",
    "    print(paper, end=' ')\n",
    "    paper_data = get_title_abs_arxiv(df['url'][paper])\n",
    "    for mode in ['title', 'abstract']:\n",
    "        inputs = tokenizer(paper_data[mode], return_tensors='pt', padding=True, truncation=True).to(device)\n",
    "        with torch.no_grad():\n",
    "            outputs = model(**inputs)\n",
    "        embeddings = outputs.last_hidden_state\n",
    "        pooled_embeddings = torch.mean(embeddings, dim=1)\n",
    "        if mode == 'title':\n",
    "            title_embeddings_list.append(pooled_embeddings.cpu().numpy())\n",
    "        elif mode == 'abstract':\n",
    "            abstract_embeddings_list.append(pooled_embeddings.cpu().numpy())\n",
    "\n",
    "print()\n",
    "\n",
    "# Convert lists of NumPy arrays to NumPy arrays\n",
    "title_embeddings_np = np.vstack(title_embeddings_list)\n",
    "abstract_embeddings_np = np.vstack(abstract_embeddings_list)\n",
    "\n",
    "# Create DataFrame\n",
    "df_embeddings = pd.DataFrame({\n",
    "    'url' : df['url'].values.tolist(),\n",
    "    'title_embeddings': [torch.tensor(embedding) for embedding in title_embeddings_list],\n",
    "    'abstract_embeddings': [torch.tensor(embedding) for embedding in abstract_embeddings_list]\n",
    "})\n",
    "\n",
    "df_embeddings.to_pickle(\"./Datasets/papers_of_interest/specter_embeddings.pkl\")\n",
    "\n"
   ]
  },
  {
   "cell_type": "code",
   "execution_count": 46,
   "metadata": {},
   "outputs": [
    {
     "name": "stderr",
     "output_type": "stream",
     "text": [
      "/raid/home/niranjan20090/anaconda3/envs/tiger/lib/python3.9/site-packages/torch/_utils.py:776: UserWarning: TypedStorage is deprecated. It will be removed in the future and UntypedStorage will be the only storage class. This should only matter to you if you are using storages directly.  To access UntypedStorage directly, use tensor.untyped_storage() instead of tensor.storage()\n",
      "  return self.fget.__get__(instance, owner)()\n",
      "/tmp/ipykernel_3338212/667730810.py:27: UserWarning: To copy construct from a tensor, it is recommended to use sourceTensor.clone().detach() or sourceTensor.clone().detach().requires_grad_(True), rather than torch.tensor(sourceTensor).\n",
      "  'bert_cat_embeddings': [torch.tensor(embedding) for embedding in embeddings1],\n",
      "/tmp/ipykernel_3338212/667730810.py:28: UserWarning: To copy construct from a tensor, it is recommended to use sourceTensor.clone().detach() or sourceTensor.clone().detach().requires_grad_(True), rather than torch.tensor(sourceTensor).\n",
      "  'scibert_cat_embeddings': [torch.tensor(embedding) for embedding in embeddings2],\n",
      "/tmp/ipykernel_3338212/667730810.py:29: UserWarning: To copy construct from a tensor, it is recommended to use sourceTensor.clone().detach() or sourceTensor.clone().detach().requires_grad_(True), rather than torch.tensor(sourceTensor).\n",
      "  'specter_cat_embeddings': [torch.tensor(embedding) for embedding in embeddings3]\n"
     ]
    }
   ],
   "source": [
    "from transformers import AutoTokenizer, AutoModel\n",
    "\n",
    "# load model and tokenizer\n",
    "tokenizer1 = AutoTokenizer.from_pretrained('bert-base-uncased')\n",
    "tokenizer2 = AutoTokenizer.from_pretrained('allenai/scibert_scivocab_uncased')\n",
    "tokenizer3 = AutoTokenizer.from_pretrained('allenai/specter')\n",
    "model1 = AutoModel.from_pretrained('bert-base-uncased')\n",
    "model2 = AutoModel.from_pretrained('allenai/scibert_scivocab_uncased')\n",
    "model3 = AutoModel.from_pretrained('allenai/specter')\n",
    "\n",
    "papers = [ get_title_abs_arxiv(url) for url in df['url'] ]\n",
    "\n",
    "# concatenate title and abstract\n",
    "title_abs = [d['title'] + tokenizer.sep_token + (d.get('abstract') or '') for d in papers]\n",
    "# preprocess the input\n",
    "inputs1 = tokenizer1(title_abs, padding=True, truncation=True, return_tensors=\"pt\", max_length=512)\n",
    "inputs2 = tokenizer2(title_abs, padding=True, truncation=True, return_tensors=\"pt\", max_length=512)\n",
    "inputs3 = tokenizer3(title_abs, padding=True, truncation=True, return_tensors=\"pt\", max_length=512)\n",
    "result1 = model1(**inputs1)\n",
    "result2 = model2(**inputs2)\n",
    "result3 = model3(**inputs3)\n",
    "# take the first token in the batch as the embedding\n",
    "embeddings1 = result1.last_hidden_state[:, 0, :]\n",
    "embeddings2 = result2.last_hidden_state[:, 0, :]\n",
    "embeddings3 = result3.last_hidden_state[:, 0, :]\n",
    "\n",
    "df_embeddings = pd.DataFrame({\n",
    "    'url' : df['url'].values.tolist(),\n",
    "    'bert_cat_embeddings': [torch.tensor(embedding) for embedding in embeddings1],\n",
    "    'scibert_cat_embeddings': [torch.tensor(embedding) for embedding in embeddings2],\n",
    "    'specter_cat_embeddings': [torch.tensor(embedding) for embedding in embeddings3]\n",
    "})\n",
    "\n",
    "df_embeddings.to_pickle(\"./Datasets/papers_of_interest/cat_embeddings.pkl\")"
   ]
  },
  {
   "cell_type": "code",
   "execution_count": 5,
   "metadata": {},
   "outputs": [
    {
     "name": "stdout",
     "output_type": "stream",
     "text": [
      "1173\n",
      "1158\n"
     ]
    }
   ],
   "source": [
    "# Load CSV file into a DataFrame\n",
    "df = pd.read_csv('./Datasets/daily_papers/daily_arxiv_papers.csv')\n",
    "print(len(df))\n",
    "# Keep rows where 'id' column contains 'arxiv'\n",
    "df = df[df['id'].str.lower().str.contains('arxiv')]\n",
    "# Reset index if needed\n",
    "df.reset_index(drop=True, inplace=True)\n",
    "print(len(df))\n"
   ]
  },
  {
   "cell_type": "code",
   "execution_count": 6,
   "metadata": {},
   "outputs": [
    {
     "data": {
      "text/html": [
       "<div>\n",
       "<style scoped>\n",
       "    .dataframe tbody tr th:only-of-type {\n",
       "        vertical-align: middle;\n",
       "    }\n",
       "\n",
       "    .dataframe tbody tr th {\n",
       "        vertical-align: top;\n",
       "    }\n",
       "\n",
       "    .dataframe thead th {\n",
       "        text-align: right;\n",
       "    }\n",
       "</style>\n",
       "<table border=\"1\" class=\"dataframe\">\n",
       "  <thead>\n",
       "    <tr style=\"text-align: right;\">\n",
       "      <th></th>\n",
       "      <th>id</th>\n",
       "      <th>title</th>\n",
       "      <th>abstract</th>\n",
       "      <th>date</th>\n",
       "    </tr>\n",
       "  </thead>\n",
       "  <tbody>\n",
       "    <tr>\n",
       "      <th>0</th>\n",
       "      <td>oai:arXiv.org:2403.19669v1</td>\n",
       "      <td>Analyzing the Roles of Language and Vision in ...</td>\n",
       "      <td>arXiv:2403.19669v1 Announce Type: new  Abstrac...</td>\n",
       "      <td>01-Apr-2024</td>\n",
       "    </tr>\n",
       "    <tr>\n",
       "      <th>1</th>\n",
       "      <td>oai:arXiv.org:2403.19717v1</td>\n",
       "      <td>A Picture is Worth 500 Labels: A Case Study of...</td>\n",
       "      <td>arXiv:2403.19717v1 Announce Type: new  Abstrac...</td>\n",
       "      <td>01-Apr-2024</td>\n",
       "    </tr>\n",
       "    <tr>\n",
       "      <th>2</th>\n",
       "      <td>oai:arXiv.org:2403.19721v1</td>\n",
       "      <td>Computationally and Memory-Efficient Robust Pr...</td>\n",
       "      <td>arXiv:2403.19721v1 Announce Type: new  Abstrac...</td>\n",
       "      <td>01-Apr-2024</td>\n",
       "    </tr>\n",
       "    <tr>\n",
       "      <th>3</th>\n",
       "      <td>oai:arXiv.org:2403.19792v1</td>\n",
       "      <td>MAPL: Model Agnostic Peer-to-peer Learning</td>\n",
       "      <td>arXiv:2403.19792v1 Announce Type: new  Abstrac...</td>\n",
       "      <td>01-Apr-2024</td>\n",
       "    </tr>\n",
       "    <tr>\n",
       "      <th>4</th>\n",
       "      <td>oai:arXiv.org:2403.19800v1</td>\n",
       "      <td>Gegenbauer Graph Neural Networks for Time-vary...</td>\n",
       "      <td>arXiv:2403.19800v1 Announce Type: new  Abstrac...</td>\n",
       "      <td>01-Apr-2024</td>\n",
       "    </tr>\n",
       "    <tr>\n",
       "      <th>...</th>\n",
       "      <td>...</td>\n",
       "      <td>...</td>\n",
       "      <td>...</td>\n",
       "      <td>...</td>\n",
       "    </tr>\n",
       "    <tr>\n",
       "      <th>1153</th>\n",
       "      <td>http://arxiv.org/abs/2404.17126v1</td>\n",
       "      <td>Deep Evidential Learning for Dose Prediction</td>\n",
       "      <td>In this work, we present a novel application o...</td>\n",
       "      <td>2024-04-26</td>\n",
       "    </tr>\n",
       "    <tr>\n",
       "      <th>1154</th>\n",
       "      <td>http://arxiv.org/abs/2404.17120v1</td>\n",
       "      <td>Talking Nonsense: Probing Large Language Model...</td>\n",
       "      <td>Large language models (LLMs) exhibit excellent...</td>\n",
       "      <td>2024-04-26</td>\n",
       "    </tr>\n",
       "    <tr>\n",
       "      <th>1155</th>\n",
       "      <td>http://arxiv.org/abs/2404.17113v1</td>\n",
       "      <td>MER 2024: Semi-Supervised Learning, Noise Robu...</td>\n",
       "      <td>Multimodal emotion recognition is an important...</td>\n",
       "      <td>2024-04-26</td>\n",
       "    </tr>\n",
       "    <tr>\n",
       "      <th>1156</th>\n",
       "      <td>http://arxiv.org/abs/2404.17110v1</td>\n",
       "      <td>Software Vulnerability Prediction in Low-Resou...</td>\n",
       "      <td>Background: Software Vulnerability (SV) predic...</td>\n",
       "      <td>2024-04-26</td>\n",
       "    </tr>\n",
       "    <tr>\n",
       "      <th>1157</th>\n",
       "      <td>http://arxiv.org/abs/2404.17099v1</td>\n",
       "      <td>Unleashing the Potential of Fractional Calculu...</td>\n",
       "      <td>We introduce the FRactional-Order graph Neural...</td>\n",
       "      <td>2024-04-26</td>\n",
       "    </tr>\n",
       "  </tbody>\n",
       "</table>\n",
       "<p>1158 rows × 4 columns</p>\n",
       "</div>"
      ],
      "text/plain": [
       "                                     id  \\\n",
       "0            oai:arXiv.org:2403.19669v1   \n",
       "1            oai:arXiv.org:2403.19717v1   \n",
       "2            oai:arXiv.org:2403.19721v1   \n",
       "3            oai:arXiv.org:2403.19792v1   \n",
       "4            oai:arXiv.org:2403.19800v1   \n",
       "...                                 ...   \n",
       "1153  http://arxiv.org/abs/2404.17126v1   \n",
       "1154  http://arxiv.org/abs/2404.17120v1   \n",
       "1155  http://arxiv.org/abs/2404.17113v1   \n",
       "1156  http://arxiv.org/abs/2404.17110v1   \n",
       "1157  http://arxiv.org/abs/2404.17099v1   \n",
       "\n",
       "                                                  title  \\\n",
       "0     Analyzing the Roles of Language and Vision in ...   \n",
       "1     A Picture is Worth 500 Labels: A Case Study of...   \n",
       "2     Computationally and Memory-Efficient Robust Pr...   \n",
       "3            MAPL: Model Agnostic Peer-to-peer Learning   \n",
       "4     Gegenbauer Graph Neural Networks for Time-vary...   \n",
       "...                                                 ...   \n",
       "1153       Deep Evidential Learning for Dose Prediction   \n",
       "1154  Talking Nonsense: Probing Large Language Model...   \n",
       "1155  MER 2024: Semi-Supervised Learning, Noise Robu...   \n",
       "1156  Software Vulnerability Prediction in Low-Resou...   \n",
       "1157  Unleashing the Potential of Fractional Calculu...   \n",
       "\n",
       "                                               abstract         date  \n",
       "0     arXiv:2403.19669v1 Announce Type: new  Abstrac...  01-Apr-2024  \n",
       "1     arXiv:2403.19717v1 Announce Type: new  Abstrac...  01-Apr-2024  \n",
       "2     arXiv:2403.19721v1 Announce Type: new  Abstrac...  01-Apr-2024  \n",
       "3     arXiv:2403.19792v1 Announce Type: new  Abstrac...  01-Apr-2024  \n",
       "4     arXiv:2403.19800v1 Announce Type: new  Abstrac...  01-Apr-2024  \n",
       "...                                                 ...          ...  \n",
       "1153  In this work, we present a novel application o...   2024-04-26  \n",
       "1154  Large language models (LLMs) exhibit excellent...   2024-04-26  \n",
       "1155  Multimodal emotion recognition is an important...   2024-04-26  \n",
       "1156  Background: Software Vulnerability (SV) predic...   2024-04-26  \n",
       "1157  We introduce the FRactional-Order graph Neural...   2024-04-26  \n",
       "\n",
       "[1158 rows x 4 columns]"
      ]
     },
     "execution_count": 6,
     "metadata": {},
     "output_type": "execute_result"
    }
   ],
   "source": [
    "df"
   ]
  },
  {
   "cell_type": "code",
   "execution_count": 25,
   "metadata": {},
   "outputs": [
    {
     "name": "stdout",
     "output_type": "stream",
     "text": [
      "0 1 2 3 4 5 6 7 8 9 10 11 12 13 14 15 16 17 18 19 20 21 22 23 24 25 26 27 28 29 30 31 32 33 34 35 36 37 38 39 40 41 42 43 44 45 46 47 48 49 50 51 52 53 54 55 56 57 58 59 60 61 62 63 64 65 66 67 68 69 70 71 72 73 74 75 76 77 78 79 80 81 82 83 84 85 86 87 88 89 90 91 92 93 94 95 96 97 98 99 100 101 102 103 104 105 106 107 108 109 110 111 112 113 114 115 116 117 118 119 120 121 122 123 124 125 126 127 128 129 130 131 132 133 134 135 136 137 138 139 140 141 142 143 144 145 146 147 148 149 150 151 152 153 154 155 156 157 158 159 160 161 162 163 164 165 166 167 168 169 170 171 172 173 174 175 176 177 178 179 180 181 182 183 184 185 186 187 188 189 190 191 192 193 194 195 196 197 198 199 200 201 202 203 204 205 206 207 208 209 210 211 212 213 214 215 216 217 218 219 220 221 222 223 224 225 226 227 228 229 230 231 232 233 234 235 236 237 238 239 240 241 242 243 244 245 246 247 248 249 250 251 252 253 254 255 256 257 258 259 260 261 262 263 264 265 266 267 268 269 270 271 272 273 274 275 276 277 278 279 280 281 282 283 284 285 286 287 288 289 290 291 292 293 294 295 296 297 298 299 300 301 302 303 304 305 306 307 308 309 310 311 312 313 314 315 316 317 318 319 320 321 322 323 324 325 326 327 328 329 330 331 332 333 334 335 336 337 338 339 340 341 342 343 344 345 346 347 348 349 350 351 352 353 354 355 356 357 358 359 360 361 362 363 364 365 366 367 368 369 370 371 372 373 374 375 376 377 378 379 380 381 382 383 384 385 386 387 388 389 390 391 392 393 394 395 396 397 398 399 400 401 402 403 404 405 406 407 408 409 410 411 412 413 414 415 416 417 418 419 420 421 422 423 424 425 426 427 428 429 430 431 432 433 434 435 436 437 438 439 440 441 442 443 444 445 446 447 448 449 450 451 452 453 454 455 456 457 458 459 460 461 462 463 464 465 466 467 468 469 470 471 472 473 474 475 476 477 478 479 480 481 482 483 484 485 486 487 488 489 490 491 492 493 494 495 496 497 498 499 500 501 502 503 504 505 506 507 508 509 510 511 512 513 514 515 516 517 518 519 520 521 522 523 524 525 526 527 528 529 530 531 532 533 534 535 536 537 538 539 540 541 542 543 544 545 546 547 548 549 550 551 552 553 554 555 556 557 558 559 560 561 562 563 564 565 566 567 568 569 570 571 572 573 574 575 576 577 578 579 580 581 582 583 584 585 586 587 588 589 590 591 592 593 594 595 596 597 598 599 600 601 602 603 604 605 606 607 608 609 610 611 612 613 614 615 616 617 618 619 620 621 622 623 624 625 626 627 628 629 630 631 632 633 634 635 636 637 638 639 640 641 642 643 644 645 646 647 648 649 650 651 652 653 654 655 656 657 658 659 660 661 662 663 664 665 666 667 668 669 670 671 672 673 674 675 676 677 678 679 680 681 682 683 684 685 686 687 688 689 690 691 692 693 694 695 696 697 698 699 700 701 702 703 704 705 706 707 708 709 710 711 712 713 714 715 716 717 718 719 720 721 722 723 724 725 726 727 728 729 730 731 732 733 734 735 736 737 738 739 740 741 742 743 744 745 746 747 748 749 750 751 752 753 754 755 756 757 758 759 760 761 762 763 764 765 766 767 768 769 770 771 772 773 774 775 776 777 778 779 780 781 782 783 784 785 786 787 788 789 790 791 792 793 794 795 796 797 798 799 800 801 802 803 804 805 806 807 808 809 810 811 812 813 814 815 816 817 818 819 820 821 822 823 824 825 826 827 828 829 830 831 832 833 834 835 836 837 838 839 840 841 842 843 844 845 846 847 848 849 850 851 852 853 854 855 856 857 858 859 860 861 862 863 864 865 866 867 868 869 870 871 872 873 874 875 876 877 878 879 880 881 882 883 884 885 886 887 888 889 890 891 892 893 894 895 896 897 898 899 900 901 902 903 904 905 906 907 908 909 910 911 912 913 914 915 916 917 918 919 920 921 922 923 924 925 926 927 928 929 930 931 932 933 934 935 936 937 938 939 940 941 942 943 944 945 946 947 948 949 950 951 952 953 954 955 956 957 958 959 960 961 962 963 964 965 966 967 968 969 970 971 972 973 974 975 976 977 978 979 980 981 982 983 984 985 986 987 988 989 990 991 992 993 994 995 996 997 998 999 1000 1001 1002 1003 1004 1005 1006 1007 1008 1009 1010 1011 1012 1013 1014 1015 1016 1017 1018 1019 1020 1021 1022 1023 1024 1025 1026 1027 1028 1029 1030 1031 1032 1033 1034 1035 1036 1037 1038 1039 1040 1041 1042 1043 1044 1045 1046 1047 1048 1049 1050 1051 1052 1053 1054 1055 1056 1057 1058 1059 1060 1061 1062 1063 1064 1065 1066 1067 1068 1069 1070 1071 1072 1073 1074 1075 1076 1077 1078 1079 1080 1081 1082 1083 1084 1085 1086 1087 1088 1089 1090 1091 1092 1093 1094 1095 1096 1097 1098 1099 1100 1101 1102 1103 1104 1105 1106 1107 1108 1109 1110 1111 1112 1113 1114 1115 1116 1117 1118 1119 1120 1121 1122 1123 1124 1125 1126 1127 1128 1129 1130 1131 1132 1133 1134 1135 1136 1137 1138 1139 1140 1141 1142 1143 1144 1145 1146 1147 1148 1149 1150 1151 1152 1153 1154 1155 1156 1157 \n"
     ]
    }
   ],
   "source": [
    "#BERT\n",
    "\n",
    "import torch\n",
    "from transformers import BertTokenizer, BertModel\n",
    "import numpy as np\n",
    "\n",
    "device = torch.device(\"cuda:2\" if torch.cuda.is_available() else \"cpu\")\n",
    "\n",
    "tokenizer = BertTokenizer.from_pretrained('bert-base-uncased')\n",
    "model = BertModel.from_pretrained('bert-base-uncased').to(device)\n",
    "\n",
    "title_embeddings_list = []\n",
    "abstract_embeddings_list = []\n",
    "\n",
    "for paper in range(df.shape[0]):\n",
    "    # print(df['url'][paper])\n",
    "    print(paper, end=' ')\n",
    "    paper_data = {'title': df['title'][paper], 'abstract': df['abstract'][paper]}\n",
    "    for mode in ['title', 'abstract']:\n",
    "        inputs = tokenizer(paper_data[mode], return_tensors='pt', padding=True, truncation=True).to(device)\n",
    "        with torch.no_grad():\n",
    "            outputs = model(**inputs)\n",
    "        embeddings = outputs.last_hidden_state\n",
    "        pooled_embeddings = torch.mean(embeddings, dim=1)\n",
    "        if mode == 'title':\n",
    "            title_embeddings_list.append(pooled_embeddings.cpu().numpy())\n",
    "        elif mode == 'abstract':\n",
    "            abstract_embeddings_list.append(pooled_embeddings.cpu().numpy())\n",
    "\n",
    "print()\n",
    "\n",
    "# Convert lists of NumPy arrays to NumPy arrays\n",
    "title_embeddings_np = np.vstack(title_embeddings_list)\n",
    "abstract_embeddings_np = np.vstack(abstract_embeddings_list)\n",
    "\n",
    "# Create DataFrame\n",
    "df_embeddings = pd.DataFrame({\n",
    "    'id' : df['id'].values.tolist(),\n",
    "    'title_embeddings': [torch.tensor(embedding) for embedding in title_embeddings_list],\n",
    "    'abstract_embeddings': [torch.tensor(embedding) for embedding in abstract_embeddings_list]\n",
    "})\n",
    "\n",
    "df_embeddings.to_pickle(\"./Datasets/daily_papers/bert_embeddings.pkl\")\n"
   ]
  },
  {
   "cell_type": "code",
   "execution_count": 26,
   "metadata": {},
   "outputs": [
    {
     "name": "stderr",
     "output_type": "stream",
     "text": [
      "/raid/home/niranjan20090/anaconda3/envs/tiger/lib/python3.9/site-packages/torch/_utils.py:776: UserWarning: TypedStorage is deprecated. It will be removed in the future and UntypedStorage will be the only storage class. This should only matter to you if you are using storages directly.  To access UntypedStorage directly, use tensor.untyped_storage() instead of tensor.storage()\n",
      "  return self.fget.__get__(instance, owner)()\n",
      "Asking to truncate to max_length but no maximum length is provided and the model has no predefined maximum length. Default to no truncation.\n"
     ]
    },
    {
     "name": "stdout",
     "output_type": "stream",
     "text": [
      "0 1 2 3 4 5 6 7 8 9 10 11 12 13 14 15 16 17 18 19 20 21 22 23 24 25 26 27 28 29 30 31 32 33 34 35 36 37 38 39 40 41 42 43 44 45 46 47 48 49 50 51 52 53 54 55 56 57 58 59 60 61 62 63 64 65 66 67 68 69 70 71 72 73 74 75 76 77 78 79 80 81 82 83 84 85 86 87 88 89 90 91 92 93 94 95 96 97 98 99 100 101 102 103 104 105 106 107 108 109 110 111 112 113 114 115 116 117 118 119 120 121 122 123 124 125 126 127 128 129 130 131 132 133 134 135 136 137 138 139 140 141 142 143 144 145 146 147 148 149 150 151 152 153 154 155 156 157 158 159 160 161 162 163 164 165 166 167 168 169 170 171 172 173 174 175 176 177 178 179 180 181 182 183 184 185 186 187 188 189 190 191 192 193 194 195 196 197 198 199 200 201 202 203 204 205 206 207 208 209 210 211 212 213 214 215 216 217 218 219 220 221 222 223 224 225 226 227 228 229 230 231 232 233 234 235 236 237 238 239 240 241 242 243 244 245 246 247 248 249 250 251 252 253 254 255 256 257 258 259 260 261 262 263 264 265 266 267 268 269 270 271 272 273 274 275 276 277 278 279 280 281 282 283 284 285 286 287 288 289 290 291 292 293 294 295 296 297 298 299 300 301 302 303 304 305 306 307 308 309 310 311 312 313 314 315 316 317 318 319 320 321 322 323 324 325 326 327 328 329 330 331 332 333 334 335 336 337 338 339 340 341 342 343 344 345 346 347 348 349 350 351 352 353 354 355 356 357 358 359 360 361 362 363 364 365 366 367 368 369 370 371 372 373 374 375 376 377 378 379 380 381 382 383 384 385 386 387 388 389 390 391 392 393 394 395 396 397 398 399 400 401 402 403 404 405 406 407 408 409 410 411 412 413 414 415 416 417 418 419 420 421 422 423 424 425 426 427 428 429 430 431 432 433 434 435 436 437 438 439 440 441 442 443 444 445 446 447 448 449 450 451 452 453 454 455 456 457 458 459 460 461 462 463 464 465 466 467 468 469 470 471 472 473 474 475 476 477 478 479 480 481 482 483 484 485 486 487 488 489 490 491 492 493 494 495 496 497 498 499 500 501 502 503 504 505 506 507 508 509 510 511 512 513 514 515 516 517 518 519 520 521 522 523 524 525 526 527 528 529 530 531 532 533 534 535 536 537 538 539 540 541 542 543 544 545 546 547 548 549 550 551 552 553 554 555 556 557 558 559 560 561 562 563 564 565 566 567 568 569 570 571 572 573 574 575 576 577 578 579 580 581 582 583 584 585 586 587 588 589 590 591 592 593 594 595 596 597 598 599 600 601 602 603 604 605 606 607 608 609 610 611 612 613 614 615 616 617 618 619 620 621 622 623 624 625 626 627 628 629 630 631 632 633 634 635 636 637 638 639 640 641 642 643 644 645 646 647 648 649 650 651 652 653 654 655 656 657 658 659 660 661 662 663 664 665 666 667 668 669 670 671 672 673 674 675 676 677 678 679 680 681 682 683 684 685 686 687 688 689 690 691 692 693 694 695 696 697 698 699 700 701 702 703 704 705 706 707 708 709 710 711 712 713 714 715 716 717 718 719 720 721 722 723 724 725 726 727 728 729 730 731 732 733 734 735 736 737 738 739 740 741 742 743 744 745 746 747 748 749 750 751 752 753 754 755 756 757 758 759 760 761 762 763 764 765 766 767 768 769 770 771 772 773 774 775 776 777 778 779 780 781 782 783 784 785 786 787 788 789 790 791 792 793 794 795 796 797 798 799 800 801 802 803 804 805 806 807 808 809 810 811 812 813 814 815 816 817 818 819 820 821 822 823 824 825 826 827 828 829 830 831 832 833 834 835 836 837 838 839 840 841 842 843 844 845 846 847 848 849 850 851 852 853 854 855 856 857 858 859 860 861 862 863 864 865 866 867 868 869 870 871 872 873 874 875 876 877 878 879 880 881 882 883 884 885 886 887 888 889 890 891 892 893 894 895 896 897 898 899 900 901 902 903 904 905 906 907 908 909 910 911 912 913 914 915 916 917 918 919 920 921 922 923 924 925 926 927 928 929 930 931 932 933 934 935 936 937 938 939 940 941 942 943 944 945 946 947 948 949 950 951 952 953 954 955 956 957 958 959 960 961 962 963 964 965 966 967 968 969 970 971 972 973 974 975 976 977 978 979 980 981 982 983 984 985 986 987 988 989 990 991 992 993 994 995 996 997 998 999 1000 1001 1002 1003 1004 1005 1006 1007 1008 1009 1010 1011 1012 1013 1014 1015 1016 1017 1018 1019 1020 1021 1022 1023 1024 1025 1026 1027 1028 1029 1030 1031 1032 1033 1034 1035 1036 1037 1038 1039 1040 1041 1042 1043 1044 1045 1046 1047 1048 1049 1050 1051 1052 1053 1054 1055 1056 1057 1058 1059 1060 1061 1062 1063 1064 1065 1066 1067 1068 1069 1070 1071 1072 1073 1074 1075 1076 1077 1078 1079 1080 1081 1082 1083 1084 1085 1086 1087 1088 1089 1090 1091 1092 1093 1094 1095 1096 1097 1098 1099 1100 1101 1102 1103 1104 1105 1106 1107 1108 1109 1110 1111 1112 1113 1114 1115 1116 1117 1118 1119 1120 1121 1122 1123 1124 1125 1126 1127 1128 1129 1130 1131 1132 1133 1134 1135 1136 1137 1138 1139 1140 1141 1142 1143 1144 1145 1146 1147 1148 1149 1150 1151 1152 1153 1154 1155 1156 1157 \n"
     ]
    }
   ],
   "source": [
    "#SCIBERT\n",
    "\n",
    "import torch\n",
    "from transformers import BertTokenizer, BertModel\n",
    "import numpy as np\n",
    "\n",
    "device = torch.device(\"cuda:2\" if torch.cuda.is_available() else \"cpu\")\n",
    "\n",
    "tokenizer = BertTokenizer.from_pretrained('allenai/scibert_scivocab_uncased')\n",
    "model = BertModel.from_pretrained('allenai/scibert_scivocab_uncased').to(device)\n",
    "\n",
    "title_embeddings_list = []\n",
    "abstract_embeddings_list = []\n",
    "\n",
    "for paper in range(df.shape[0]):\n",
    "    # print(df['url'][paper])\n",
    "    print(paper, end=' ')\n",
    "    paper_data = {'title': df['title'][paper], 'abstract': df['abstract'][paper]}\n",
    "    for mode in ['title', 'abstract']:\n",
    "        inputs = tokenizer(paper_data[mode], return_tensors='pt', padding=True, truncation=True).to(device)\n",
    "        with torch.no_grad():\n",
    "            outputs = model(**inputs)\n",
    "        embeddings = outputs.last_hidden_state\n",
    "        pooled_embeddings = torch.mean(embeddings, dim=1)\n",
    "        if mode == 'title':\n",
    "            title_embeddings_list.append(pooled_embeddings.cpu().numpy())\n",
    "        elif mode == 'abstract':\n",
    "            abstract_embeddings_list.append(pooled_embeddings.cpu().numpy())\n",
    "\n",
    "print()\n",
    "\n",
    "# Convert lists of NumPy arrays to NumPy arrays\n",
    "title_embeddings_np = np.vstack(title_embeddings_list)\n",
    "abstract_embeddings_np = np.vstack(abstract_embeddings_list)\n",
    "\n",
    "# Create DataFrame\n",
    "df_embeddings = pd.DataFrame({\n",
    "    'id' : df['id'].values.tolist(),\n",
    "    'title_embeddings': [torch.tensor(embedding) for embedding in title_embeddings_list],\n",
    "    'abstract_embeddings': [torch.tensor(embedding) for embedding in abstract_embeddings_list]\n",
    "})\n",
    "\n",
    "df_embeddings.to_pickle(\"./Datasets/daily_papers/scibert_embeddings.pkl\")\n"
   ]
  },
  {
   "cell_type": "code",
   "execution_count": 27,
   "metadata": {},
   "outputs": [
    {
     "name": "stderr",
     "output_type": "stream",
     "text": [
      "/raid/home/niranjan20090/anaconda3/envs/tiger/lib/python3.9/site-packages/torch/_utils.py:776: UserWarning: TypedStorage is deprecated. It will be removed in the future and UntypedStorage will be the only storage class. This should only matter to you if you are using storages directly.  To access UntypedStorage directly, use tensor.untyped_storage() instead of tensor.storage()\n",
      "  return self.fget.__get__(instance, owner)()\n",
      "Asking to truncate to max_length but no maximum length is provided and the model has no predefined maximum length. Default to no truncation.\n"
     ]
    },
    {
     "name": "stdout",
     "output_type": "stream",
     "text": [
      "0 1 2 3 4 5 6 7 8 9 10 11 12 13 14 15 16 17 18 19 20 21 22 23 24 25 26 27 28 29 30 31 32 33 34 35 36 37 38 39 40 41 42 43 44 45 46 47 48 49 50 51 52 53 54 55 56 57 58 59 60 61 62 63 64 65 66 67 68 69 70 71 72 73 74 75 76 77 78 79 80 81 82 83 84 85 86 87 88 89 90 91 92 93 94 95 96 97 98 99 100 101 102 103 104 105 106 107 108 109 110 111 112 113 114 115 116 117 118 119 120 121 122 123 124 125 126 127 128 129 130 131 132 133 134 135 136 137 138 139 140 141 142 143 144 145 146 147 148 149 150 151 152 153 154 155 156 157 158 159 160 161 162 163 164 165 166 167 168 169 170 171 172 173 174 175 176 177 178 179 180 181 182 183 184 185 186 187 188 189 190 191 192 193 194 195 196 197 198 199 200 201 202 203 204 205 206 207 208 209 210 211 212 213 214 215 216 217 218 219 220 221 222 223 224 225 226 227 228 229 230 231 232 233 234 235 236 237 238 239 240 241 242 243 244 245 246 247 248 249 250 251 252 253 254 255 256 257 258 259 260 261 262 263 264 265 266 267 268 269 270 271 272 273 274 275 276 277 278 279 280 281 282 283 284 285 286 287 288 289 290 291 292 293 294 295 296 297 298 299 300 301 302 303 304 305 306 307 308 309 310 311 312 313 314 315 316 317 318 319 320 321 322 323 324 325 326 327 328 329 330 331 332 333 334 335 336 337 338 339 340 341 342 343 344 345 346 347 348 349 350 351 352 353 354 355 356 357 358 359 360 361 362 363 364 365 366 367 368 369 370 371 372 373 374 375 376 377 378 379 380 381 382 383 384 385 386 387 388 389 390 391 392 393 394 395 396 397 398 399 400 401 402 403 404 405 406 407 408 409 410 411 412 413 414 415 416 417 418 419 420 421 422 423 424 425 426 427 428 429 430 431 432 433 434 435 436 437 438 439 440 441 442 443 444 445 446 447 448 449 450 451 452 453 454 455 456 457 458 459 460 461 462 463 464 465 466 467 468 469 470 471 472 473 474 475 476 477 478 479 480 481 482 483 484 485 486 487 488 489 490 491 492 493 494 495 496 497 498 499 500 501 502 503 504 505 506 507 508 509 510 511 512 513 514 515 516 517 518 519 520 521 522 523 524 525 526 527 528 529 530 531 532 533 534 535 536 537 538 539 540 541 542 543 544 545 546 547 548 549 550 551 552 553 554 555 556 557 558 559 560 561 562 563 564 565 566 567 568 569 570 571 572 573 574 575 576 577 578 579 580 581 582 583 584 585 586 587 588 589 590 591 592 593 594 595 596 597 598 599 600 601 602 603 604 605 606 607 608 609 610 611 612 613 614 615 616 617 618 619 620 621 622 623 624 625 626 627 628 629 630 631 632 633 634 635 636 637 638 639 640 641 642 643 644 645 646 647 648 649 650 651 652 653 654 655 656 657 658 659 660 661 662 663 664 665 666 667 668 669 670 671 672 673 674 675 676 677 678 679 680 681 682 683 684 685 686 687 688 689 690 691 692 693 694 695 696 697 698 699 700 701 702 703 704 705 706 707 708 709 710 711 712 713 714 715 716 717 718 719 720 721 722 723 724 725 726 727 728 729 730 731 732 733 734 735 736 737 738 739 740 741 742 743 744 745 746 747 748 749 750 751 752 753 754 755 756 757 758 759 760 761 762 763 764 765 766 767 768 769 770 771 772 773 774 775 776 777 778 779 780 781 782 783 784 785 786 787 788 789 790 791 792 793 794 795 796 797 798 799 800 801 802 803 804 805 806 807 808 809 810 811 812 813 814 815 816 817 818 819 820 821 822 823 824 825 826 827 828 829 830 831 832 833 834 835 836 837 838 839 840 841 842 843 844 845 846 847 848 849 850 851 852 853 854 855 856 857 858 859 860 861 862 863 864 865 866 867 868 869 870 871 872 873 874 875 876 877 878 879 880 881 882 883 884 885 886 887 888 889 890 891 892 893 894 895 896 897 898 899 900 901 902 903 904 905 906 907 908 909 910 911 912 913 914 915 916 917 918 919 920 921 922 923 924 925 926 927 928 929 930 931 932 933 934 935 936 937 938 939 940 941 942 943 944 945 946 947 948 949 950 951 952 953 954 955 956 957 958 959 960 961 962 963 964 965 966 967 968 969 970 971 972 973 974 975 976 977 978 979 980 981 982 983 984 985 986 987 988 989 990 991 992 993 994 995 996 997 998 999 1000 1001 1002 1003 1004 1005 1006 1007 1008 1009 1010 1011 1012 1013 1014 1015 1016 1017 1018 1019 1020 1021 1022 1023 1024 1025 1026 1027 1028 1029 1030 1031 1032 1033 1034 1035 1036 1037 1038 1039 1040 1041 1042 1043 1044 1045 1046 1047 1048 1049 1050 1051 1052 1053 1054 1055 1056 1057 1058 1059 1060 1061 1062 1063 1064 1065 1066 1067 1068 1069 1070 1071 1072 1073 1074 1075 1076 1077 1078 1079 1080 1081 1082 1083 1084 1085 1086 1087 1088 1089 1090 1091 1092 1093 1094 1095 1096 1097 1098 1099 1100 1101 1102 1103 1104 1105 1106 1107 1108 1109 1110 1111 1112 1113 1114 1115 1116 1117 1118 1119 1120 1121 1122 1123 1124 1125 1126 1127 1128 1129 1130 1131 1132 1133 1134 1135 1136 1137 1138 1139 1140 1141 1142 1143 1144 1145 1146 1147 1148 1149 1150 1151 1152 1153 1154 1155 1156 1157 \n"
     ]
    }
   ],
   "source": [
    "#SPECTER\n",
    "\n",
    "import torch\n",
    "from transformers import BertTokenizer, BertModel\n",
    "import numpy as np\n",
    "\n",
    "device = torch.device(\"cuda:2\" if torch.cuda.is_available() else \"cpu\")\n",
    "\n",
    "tokenizer = BertTokenizer.from_pretrained('allenai/specter')\n",
    "model = BertModel.from_pretrained('allenai/specter').to(device)\n",
    "\n",
    "title_embeddings_list = []\n",
    "abstract_embeddings_list = []\n",
    "\n",
    "for paper in range(df.shape[0]):\n",
    "    # print(df['url'][paper])\n",
    "    print(paper, end=' ')\n",
    "    paper_data = {'title': df['title'][paper], 'abstract': df['abstract'][paper]}\n",
    "    for mode in ['title', 'abstract']:\n",
    "        inputs = tokenizer(paper_data[mode], return_tensors='pt', padding=True, truncation=True).to(device)\n",
    "        with torch.no_grad():\n",
    "            outputs = model(**inputs)\n",
    "        embeddings = outputs.last_hidden_state\n",
    "        pooled_embeddings = torch.mean(embeddings, dim=1)\n",
    "        if mode == 'title':\n",
    "            title_embeddings_list.append(pooled_embeddings.cpu().numpy())\n",
    "        elif mode == 'abstract':\n",
    "            abstract_embeddings_list.append(pooled_embeddings.cpu().numpy())\n",
    "\n",
    "print()\n",
    "\n",
    "# Convert lists of NumPy arrays to NumPy arrays\n",
    "title_embeddings_np = np.vstack(title_embeddings_list)\n",
    "abstract_embeddings_np = np.vstack(abstract_embeddings_list)\n",
    "\n",
    "# Create DataFrame\n",
    "df_embeddings = pd.DataFrame({\n",
    "    'id' : df['id'].values.tolist(),\n",
    "    'title_embeddings': [torch.tensor(embedding) for embedding in title_embeddings_list],\n",
    "    'abstract_embeddings': [torch.tensor(embedding) for embedding in abstract_embeddings_list]\n",
    "})\n",
    "\n",
    "df_embeddings.to_pickle(\"./Datasets/daily_papers/specter_embeddings.pkl\")\n"
   ]
  },
  {
   "cell_type": "code",
   "execution_count": 7,
   "metadata": {},
   "outputs": [
    {
     "name": "stderr",
     "output_type": "stream",
     "text": [
      "/raid/home/niranjan20090/anaconda3/envs/tiger/lib/python3.9/site-packages/torch/_utils.py:776: UserWarning: TypedStorage is deprecated. It will be removed in the future and UntypedStorage will be the only storage class. This should only matter to you if you are using storages directly.  To access UntypedStorage directly, use tensor.untyped_storage() instead of tensor.storage()\n",
      "  return self.fget.__get__(instance, owner)()\n"
     ]
    },
    {
     "name": "stdout",
     "output_type": "stream",
     "text": [
      "here\n"
     ]
    }
   ],
   "source": [
    "from transformers import AutoTokenizer, AutoModel\n",
    "\n",
    "# load model and tokenizer\n",
    "tokenizer1 = AutoTokenizer.from_pretrained('bert-base-uncased')\n",
    "tokenizer2 = AutoTokenizer.from_pretrained('allenai/scibert_scivocab_uncased')\n",
    "tokenizer3 = AutoTokenizer.from_pretrained('allenai/specter')\n",
    "model1 = AutoModel.from_pretrained('bert-base-uncased')\n",
    "model2 = AutoModel.from_pretrained('allenai/scibert_scivocab_uncased')\n",
    "model3 = AutoModel.from_pretrained('allenai/specter')\n",
    "\n",
    "papers = []\n",
    "\n",
    "for paper in range(df.shape[0]):\n",
    "    papers.append({'title': df['title'][paper], 'abstract': df['abstract'][paper]})\n",
    "\n",
    "# concatenate title and abstract\n",
    "title_abs = [d['title'] + tokenizer1.sep_token + (d.get('abstract') or '') for d in papers]\n",
    "\n",
    "#all three tokenizers have the same sep token\n",
    "print(\"here\")\n",
    "# preprocess the input\n",
    "inputs1 = tokenizer1(title_abs, padding=True, truncation=True, return_tensors=\"pt\", max_length=512)\n",
    "inputs2 = tokenizer2(title_abs, padding=True, truncation=True, return_tensors=\"pt\", max_length=512)\n",
    "inputs3 = tokenizer3(title_abs, padding=True, truncation=True, return_tensors=\"pt\", max_length=512)\n",
    "result1 = model1(**inputs1)\n",
    "result2 = model2(**inputs2)\n",
    "result3 = model3(**inputs3)\n",
    "# take the first token in the batch as the embedding\n",
    "embeddings1 = result1.last_hidden_state[:, 0, :]\n",
    "embeddings2 = result2.last_hidden_state[:, 0, :]\n",
    "embeddings3 = result3.last_hidden_state[:, 0, :]\n",
    "\n",
    "df_embeddings = pd.DataFrame({\n",
    "    'id' : df['id'].values.tolist(),\n",
    "    'bert_cat_embeddings': [torch.tensor(embedding) for embedding in embeddings1],\n",
    "    'scibert_cat_embeddings': [torch.tensor(embedding) for embedding in embeddings2],\n",
    "    'specter_cat_embeddings': [torch.tensor(embedding) for embedding in embeddings3]\n",
    "})\n",
    "\n",
    "df_embeddings.to_pickle(\"./Datasets/daily_papers/cat_embeddings.pkl\")\n",
    "\n"
   ]
  },
  {
   "cell_type": "code",
   "execution_count": null,
   "metadata": {},
   "outputs": [],
   "source": []
  }
 ],
 "metadata": {
  "kernelspec": {
   "display_name": "tiger",
   "language": "python",
   "name": "python3"
  },
  "language_info": {
   "codemirror_mode": {
    "name": "ipython",
    "version": 3
   },
   "file_extension": ".py",
   "mimetype": "text/x-python",
   "name": "python",
   "nbconvert_exporter": "python",
   "pygments_lexer": "ipython3",
   "version": "3.9.16"
  }
 },
 "nbformat": 4,
 "nbformat_minor": 2
}
